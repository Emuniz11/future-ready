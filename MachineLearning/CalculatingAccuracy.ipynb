{
 "cells": [
  {
   "cell_type": "code",
   "execution_count": 45,
   "id": "7a4e9146",
   "metadata": {},
   "outputs": [
    {
     "data": {
      "text/plain": [
       "1.0"
      ]
     },
     "execution_count": 45,
     "metadata": {},
     "output_type": "execute_result"
    }
   ],
   "source": [
    "# Steps:\n",
    "# 1. Import Data\n",
    "# 2. Clean Data\n",
    "# 3. Split Data into Training/Test Sets\n",
    "# 4. Create Model\n",
    "# 5. Train Model\n",
    "# 6. Make Predictions\n",
    "# 7. Evaluate and Improve\n",
    "\n",
    "# Caggle.com is great to get data sets from \n",
    "\n",
    "# 1. Import Data\n",
    "import pandas as pd\n",
    "from sklearn.tree import DecisionTreeClassifier\n",
    "from sklearn.model_selection import train_test_split\n",
    "from sklearn.metrics import accuracy_score\n",
    "\n",
    "music_data = pd.read_csv('music.csv')\n",
    "# music_data\n",
    "# The input set here are the first two columns age and gender\n",
    "# The output set is column three genre\n",
    "# Training a model requires two sets, input and output\n",
    "\n",
    "# -----------------------------------------------------------------------------------------\n",
    "\n",
    "# 2. Clean Data - since all fields have corrosponding values, no cleaning needed in this ex\n",
    "# 3. Split Data into Training/Test Sets\n",
    "# This method creates a new data set without the selected column (input data set)\n",
    "X = music_data.drop(columns=['genre'])\n",
    "# Now inspect X - uppercase X by convention\n",
    "# X\n",
    "# Now for the output data set - lowercase y by convention\n",
    "y = music_data['genre']\n",
    "# y\n",
    "\n",
    "# Best practice is to allocate 70-80% of data to training and 20-30% to testing\n",
    "# test_size=0.2 is allocating 80% of data for training and randomly chooses data from those sets\n",
    "# increasing test_size to 0.8 and data for training changes to 20%\n",
    "X_train, X_test, y_train, y_test = train_test_split(X, y, test_size=0.2)\n",
    "\n",
    "# -----------------------------------------------------------------------------------------\n",
    "\n",
    "# 4. Create Model\n",
    "# Using Decision Tree Classifier for this project - pros and cons to each algorithm\n",
    "# sklearn is package from sidekick learn library - most popular machine learning library\n",
    "model = DecisionTreeClassifier()\n",
    "# So when creating model, pass the _train data sets instead of this:\n",
    "# model.fit(X, y)\n",
    "model.fit(X_train, y_train)\n",
    "# Parameters for this method is a two dimensional array - in this array, each element is an array\n",
    "# This like a new reccord in the input set - 21 yrOld male and a 22 yrOld female\n",
    "# predictions = model.predict([[21, 1], [22, 0]])\n",
    "# Also when making prediction, use the X_test input data set\n",
    "predictions = model.predict(X_test)\n",
    "# predictions\n",
    "# The output mean: 21 yrOld male likes HipHop and 22 yrOld female likes Dance\n",
    "\n",
    "# -----------------------------------------------------------------------------------------\n",
    "\n",
    "# Calculate Accuracy\n",
    "score = accuracy_score(y_test, predictions)\n",
    "# The score is 0-1.0 or 0%-100%\n",
    "score\n",
    "\n",
    "# Accuracy is (on average) higher when 80% of data is being used for training\n",
    "# Accuracy is a lot less (on average) when only 20% of data is being used for training\n",
    "# This happens because very little data is used to train the model\n",
    "# The more data is given to the model and the cleaner the data is will give better results\n",
    "\n",
    "# To run current cell without adding another cell press ctrl+enter"
   ]
  }
 ],
 "metadata": {
  "kernelspec": {
   "display_name": "Python 3",
   "language": "python",
   "name": "python3"
  },
  "language_info": {
   "codemirror_mode": {
    "name": "ipython",
    "version": 3
   },
   "file_extension": ".py",
   "mimetype": "text/x-python",
   "name": "python",
   "nbconvert_exporter": "python",
   "pygments_lexer": "ipython3",
   "version": "3.8.8"
  }
 },
 "nbformat": 4,
 "nbformat_minor": 5
}
